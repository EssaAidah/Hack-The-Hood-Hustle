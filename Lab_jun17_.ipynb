{
  "nbformat": 4,
  "nbformat_minor": 0,
  "metadata": {
    "colab": {
      "provenance": [],
      "authorship_tag": "ABX9TyMAfcGYdh18ejuKg8KReL1H",
      "include_colab_link": true
    },
    "kernelspec": {
      "name": "python3",
      "display_name": "Python 3"
    },
    "language_info": {
      "name": "python"
    }
  },
  "cells": [
    {
      "cell_type": "markdown",
      "metadata": {
        "id": "view-in-github",
        "colab_type": "text"
      },
      "source": [
        "<a href=\"https://colab.research.google.com/github/EssaAidah/Hack-The-Hood-Hustle/blob/main/Lab_jun17_.ipynb\" target=\"_parent\"><img src=\"https://colab.research.google.com/assets/colab-badge.svg\" alt=\"Open In Colab\"/></a>"
      ]
    },
    {
      "cell_type": "markdown",
      "source": [
        "# Lab Jun. 17\n",
        "\n",
        "#Intro to pseudo code"
      ],
      "metadata": {
        "id": "_OWFItLmyv2s"
      }
    },
    {
      "cell_type": "markdown",
      "source": [
        "#The rules to define variables\n",
        "1) Must start with aletter or _Underscore\n",
        "\n",
        "2) Consists of letters, Numbers and Underscores But will not start with a number\n"
      ],
      "metadata": {
        "id": "ed6XWvoC0QfX"
      }
    },
    {
      "cell_type": "code",
      "execution_count": 6,
      "metadata": {
        "id": "CePkXI88Yw08",
        "colab": {
          "base_uri": "https://localhost:8080/"
        },
        "outputId": "c6396f88-8388-4323-f380-f84fcf9dea42"
      },
      "outputs": [
        {
          "output_type": "stream",
          "name": "stdout",
          "text": [
            "Audi\n"
          ]
        }
      ],
      "source": [
        "car = \"Mercedes\"\n",
        "car = \"Audi\"\n",
        "\n",
        "print (car)"
      ]
    },
    {
      "cell_type": "markdown",
      "source": [
        "### psuedo code for my aplication\n",
        "I want to write a program that takes user input and prints it back to the screen.\n",
        "\n",
        "`First_name` the user's first name\n",
        "\n",
        "`Last_Name` the user's last name\n",
        "\n",
        "`Age` the user's age\n",
        "\n",
        "`Fav_Colour` the user's favourite colour\n",
        "\n",
        "`Fav_Sport` the user's favourite sport\n",
        "\n",
        "`Fav_Team` the user's favourite team\n",
        "\n",
        "use a 'built-in' process to take user's data.\n",
        "\n",
        "use a 'built-in' process to display user's data."
      ],
      "metadata": {
        "id": "50HPLT4n2LrN"
      }
    },
    {
      "cell_type": "markdown",
      "source": [
        "### Code for my aplication"
      ],
      "metadata": {
        "id": "XO8Htc3B1YLR"
      }
    },
    {
      "cell_type": "code",
      "source": [
        "First_name = 'John'\n",
        "Last_Name = 'Connor'\n",
        "age = 23\n",
        "Fav_Colour = 'Gray'\n",
        "Fav_Sport = 'Soccer'\n",
        "Fav_Team = 'Man U'\n",
        "\n",
        "print(First_name)\n",
        "print(Last_Name)\n",
        "print(age)\n",
        "print(Fav_Colour)\n",
        "print(Fav_Sport)\n",
        "print(Fav_Team)"
      ],
      "metadata": {
        "colab": {
          "base_uri": "https://localhost:8080/"
        },
        "id": "iIsL-TUx3R7O",
        "outputId": "9b2beed5-f80a-484b-c66b-2d46ef78a1e3"
      },
      "execution_count": 7,
      "outputs": [
        {
          "output_type": "stream",
          "name": "stdout",
          "text": [
            "John\n",
            "Connor\n",
            "23\n",
            "Gray\n",
            "Soccer\n",
            "Man U\n"
          ]
        }
      ]
    },
    {
      "cell_type": "code",
      "source": [
        "First_name = input('What is your first name? ')"
      ],
      "metadata": {
        "colab": {
          "base_uri": "https://localhost:8080/"
        },
        "id": "twh0ZnB63uI_",
        "outputId": "21c78875-2492-4b94-9662-5012a7c85ba0"
      },
      "execution_count": 8,
      "outputs": [
        {
          "name": "stdout",
          "output_type": "stream",
          "text": [
            "What is your first name? Tom\n"
          ]
        }
      ]
    },
    {
      "cell_type": "code",
      "source": [
        "print(First_name)"
      ],
      "metadata": {
        "colab": {
          "base_uri": "https://localhost:8080/"
        },
        "id": "kZAqJDGy3-ce",
        "outputId": "de570d1a-eee6-4e40-e5dc-c791b74dc669"
      },
      "execution_count": 9,
      "outputs": [
        {
          "output_type": "stream",
          "name": "stdout",
          "text": [
            "Tom\n"
          ]
        }
      ]
    },
    {
      "cell_type": "code",
      "source": [
        "# In these lines we're giving the computer some commands to ask the person about some personal informations like his name, age and other information.\n",
        "\n",
        "First_name = input('What is your first name? ')\n",
        "\n",
        "Last_Name = input('What is your last name? ')\n",
        "\n",
        "Age = input('What is your age? ')\n",
        "\n",
        "Fav_Colour = input('What is your favourite colour? ')\n",
        "\n",
        "Fav_Sport = input('What is your favourite sport? ')\n",
        "\n",
        "Fav_Team = input('What is your favourite team? ')\n"
      ],
      "metadata": {
        "colab": {
          "base_uri": "https://localhost:8080/"
        },
        "id": "ga4D4EZ44Hpv",
        "outputId": "bc379a1a-0627-422e-839f-f274e2e4ca81"
      },
      "execution_count": 2,
      "outputs": [
        {
          "name": "stdout",
          "output_type": "stream",
          "text": [
            "What is your first name? John\n",
            "What is your last name? Conor\n",
            "What is your age? 23\n",
            "What is your favourite colour? Gray\n",
            "What is your favourite sport? Soccer\n",
            "What is your favourite team? Man U\n"
          ]
        }
      ]
    },
    {
      "cell_type": "code",
      "source": [
        "# Here we're asking the computer to print the information given by the person above.\n",
        "\n",
        "print(f\"User first name is, {First_name}, last name is, {Last_Name}, age is, {Age},\\\n",
        " favourite colour is, {Fav_Colour}, favourite sport is, {Fav_Sport}, favourite team is, {Fav_Team}\")"
      ],
      "metadata": {
        "colab": {
          "base_uri": "https://localhost:8080/"
        },
        "id": "Y6wIVOoO4RBv",
        "outputId": "28415f3b-0326-400a-d7ba-fb8bd8383c59"
      },
      "execution_count": 5,
      "outputs": [
        {
          "output_type": "stream",
          "name": "stdout",
          "text": [
            "User first name is, John, last name is, Conor, age is, 23, favourite colour is, Gray, favourite sport is, Soccer, favourite team is, Man U\n"
          ]
        }
      ]
    },
    {
      "cell_type": "code",
      "source": [],
      "metadata": {
        "id": "8Ga21V6xz7Zh"
      },
      "execution_count": null,
      "outputs": []
    }
  ]
}