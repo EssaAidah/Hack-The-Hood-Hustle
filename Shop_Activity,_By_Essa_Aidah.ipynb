{
  "nbformat": 4,
  "nbformat_minor": 0,
  "metadata": {
    "colab": {
      "provenance": [],
      "authorship_tag": "ABX9TyMxIcHbJAP7NVIq+0lga0FF",
      "include_colab_link": true
    },
    "kernelspec": {
      "name": "python3",
      "display_name": "Python 3"
    },
    "language_info": {
      "name": "python"
    }
  },
  "cells": [
    {
      "cell_type": "markdown",
      "metadata": {
        "id": "view-in-github",
        "colab_type": "text"
      },
      "source": [
        "<a href=\"https://colab.research.google.com/github/EssaAidah/Hack-The-Hood-Hustle/blob/main/Shop_Activity%2C_By_Essa_Aidah.ipynb\" target=\"_parent\"><img src=\"https://colab.research.google.com/assets/colab-badge.svg\" alt=\"Open In Colab\"/></a>"
      ]
    },
    {
      "cell_type": "code",
      "execution_count": 23,
      "metadata": {
        "colab": {
          "base_uri": "https://localhost:8080/"
        },
        "id": "Ziq3wggP5D4P",
        "outputId": "e5c5d2c7-b873-4da8-91db-524ffe522717"
      },
      "outputs": [
        {
          "output_type": "stream",
          "name": "stdout",
          "text": [
            "{'apples': 0.99, 'oranges': 1.99, 'strawberries': 2.99} \n",
            "\n",
            "{'water': 0.99, 'soda': 1.99, 'juice': 2.99} \n",
            "\n",
            "What do you need from the store? [Enter 'done' when finished]: milk\n",
            "What do you need from the store? [Enter 'done' when finished]: water\n",
            "What do you need from the store? [Enter 'done' when finished]: apples\n",
            "What do you need from the store? [Enter 'done' when finished]: oranges\n",
            "What do you need from the store? [Enter 'done' when finished]: soda\n",
            "What do you need from the store? [Enter 'done' when finished]: juice\n",
            "What do you need from the store? [Enter 'done' when finished]: done\n",
            "milk is not in the store \n",
            "\n",
            "['water', 'apples', 'oranges', 'soda', 'juice'] \n",
            "\n",
            "cart total: $8.95\n"
          ]
        }
      ],
      "source": [
        "cart = []\n",
        "food_prices = {\"apples\": 0.99, \"oranges\": 1.99, \"strawberries\" : 2.99}\n",
        "drink_prices = {\"water\": 0.99, \"soda\": 1.99, \"juice\": 2.99}\n",
        "print(food_prices,\"\\n\")\n",
        "print(drink_prices,\"\\n\")\n",
        "\n",
        "cart = []\n",
        "total = 0\n",
        "shopping_list = []\n",
        "new_item = None\n",
        "while new_item != \"done\":\n",
        "  new_item = input(\"What do you need from the store? [Enter 'done' when finished]: \")\n",
        "  if new_item == \"done\":\n",
        "    break\n",
        "  else:\n",
        "    shopping_list.append(new_item)\n",
        "\n",
        "for item in shopping_list:\n",
        "  if item in food_prices:\n",
        "        cart.append(item)\n",
        "        total += food_prices[item]\n",
        "  elif item in drink_prices:\n",
        "        cart.append(item)\n",
        "        total += drink_prices[item]\n",
        "  else:\n",
        "      print(f\"{item} is not in the store\", \"\\n\")\n",
        "\n",
        "print(cart,\"\\n\")\n",
        "print(\"cart total: $%.2f\" % total)"
      ]
    },
    {
      "cell_type": "code",
      "source": [],
      "metadata": {
        "id": "ehXc3LRO5PZf"
      },
      "execution_count": 3,
      "outputs": []
    }
  ]
}